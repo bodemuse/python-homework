{
 "cells": [
  {
   "cell_type": "code",
   "execution_count": 233,
   "id": "43238072-72f5-4660-84d8-e7704bc9784c",
   "metadata": {},
   "outputs": [],
   "source": [
    "import numpy as np\n",
    "import numpy_financial as npf\n"
   ]
  },
  {
   "cell_type": "code",
   "execution_count": 247,
   "id": "a3ee016c-b1a1-4888-af16-33b525b627a0",
   "metadata": {},
   "outputs": [
    {
     "name": "stdout",
     "output_type": "stream",
     "text": [
      "86\n"
     ]
    },
    {
     "data": {
      "text/plain": [
       "38382578.0"
      ]
     },
     "execution_count": 247,
     "metadata": {},
     "output_type": "execute_result"
    }
   ],
   "source": [
    "budget_data = np.genfromtxt('budget_data.csv', delimiter =',', skip_header = 1)\n",
    "a = np.array(budget_data)\n",
    "months, profit_loss = a.shape\n",
    "\n",
    "#count the number of months\n",
    "print(months) \n",
    "\n",
    "#calculate total profit\n",
    "total_profit =np.sum(a, axis =0) \n",
    "total_profit[1] \n",
    "\n",
    "\n",
    "\n",
    "\n",
    "\n"
   ]
  },
  {
   "cell_type": "code",
   "execution_count": 261,
   "id": "33e9b560-8686-4cf7-b9da-273270b8aa9d",
   "metadata": {},
   "outputs": [
    {
     "name": "stdout",
     "output_type": "stream",
     "text": [
      "-2288.1976744186045\n"
     ]
    }
   ],
   "source": [
    "# to calculate the average of change in profit and loss over the period, first:\n",
    "#calculate the changes in profit and loss over the period = diff along the axis = 0\n",
    "# then divide the total differnce by the total number of months\n",
    "\n",
    "net_change = np.diff(a, axis =0)\n",
    "#calculate the sum of the changes\n",
    "sum_of_changes = np.sum(net_change, axis = 0)\n",
    "total_net_changes = sum_of_changes[1]\n",
    "#average of change in p/l over the period = total_net_changes/(months)\n",
    "average_change_in_profit_and_loss = total_net_changes/months\n",
    "\n",
    "print(average_change_in_profit_and_loss)\n"
   ]
  },
  {
   "cell_type": "code",
   "execution_count": 277,
   "id": "76eaf684-9ca9-408d-b08e-6d5b1fec505d",
   "metadata": {},
   "outputs": [
    {
     "name": "stdout",
     "output_type": "stream",
     "text": [
      "1926159.0\n"
     ]
    }
   ],
   "source": [
    "#greatest increase in profit during the period is the max diffence in net change dowm the axis = 0\n",
    "max_profit = np.amax(net_change, axis =0)\n",
    "max_profit_value = max_profit[1]\n",
    "print(max_profit_value)\n",
    "\n"
   ]
  },
  {
   "cell_type": "code",
   "execution_count": 280,
   "id": "327fd3e3-5897-4ed3-8872-e296117b2b7b",
   "metadata": {},
   "outputs": [
    {
     "name": "stdout",
     "output_type": "stream",
     "text": [
      "-2196167.0\n"
     ]
    }
   ],
   "source": [
    "#greatest increase in loss during the period is the min difference in net change down the axis  = 0\n",
    "\n",
    "max_loss = np.amin(net_change, axis =0)\n",
    "max_loss_value = max_loss[1]\n",
    "print(max_loss_value)"
   ]
  },
  {
   "cell_type": "code",
   "execution_count": null,
   "id": "ac01c389-99be-4fc2-8536-2cced23bc051",
   "metadata": {},
   "outputs": [],
   "source": []
  },
  {
   "cell_type": "code",
   "execution_count": null,
   "id": "cd260910-7597-4703-9f2c-e0f322173041",
   "metadata": {},
   "outputs": [],
   "source": [
    "\n",
    "  \n",
    "\n",
    "   \n",
    "    "
   ]
  },
  {
   "cell_type": "code",
   "execution_count": null,
   "id": "4df21f35-2d83-4148-9877-7e5fc105e6c5",
   "metadata": {},
   "outputs": [],
   "source": [
    "\n"
   ]
  },
  {
   "cell_type": "code",
   "execution_count": null,
   "id": "b0683d1e-694c-47e5-a7b2-984ac8616f44",
   "metadata": {},
   "outputs": [],
   "source": [
    "\n",
    " "
   ]
  },
  {
   "cell_type": "code",
   "execution_count": null,
   "id": "f78c8ee2-4ff4-4f89-83cf-b59559ebae08",
   "metadata": {},
   "outputs": [],
   "source": []
  },
  {
   "cell_type": "code",
   "execution_count": null,
   "id": "4bded710-0c12-498b-bd8d-4b55e391d9a2",
   "metadata": {},
   "outputs": [],
   "source": []
  }
 ],
 "metadata": {
  "kernelspec": {
   "display_name": "Python 3",
   "language": "python",
   "name": "python3"
  },
  "language_info": {
   "codemirror_mode": {
    "name": "ipython",
    "version": 3
   },
   "file_extension": ".py",
   "mimetype": "text/x-python",
   "name": "python",
   "nbconvert_exporter": "python",
   "pygments_lexer": "ipython3",
   "version": "3.8.8"
  }
 },
 "nbformat": 4,
 "nbformat_minor": 5
}
