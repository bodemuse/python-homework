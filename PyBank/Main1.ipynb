{
 "cells": [
  {
   "cell_type": "code",
   "execution_count": null,
   "id": "afab17d7-5776-42c6-aeb8-01287ee5aaa3",
   "metadata": {},
   "outputs": [],
   "source": []
  },
  {
   "cell_type": "code",
   "execution_count": 98,
   "id": "64ff0da2-4fd7-4ed6-a3b8-86105e7a39e9",
   "metadata": {},
   "outputs": [],
   "source": [
    "import numpy as np\n",
    "import numpy_financial as npf\n",
    "import pandas as pd\n",
    "from pandas import read_csv\n"
   ]
  },
  {
   "cell_type": "code",
   "execution_count": 130,
   "id": "9e15898c-aae3-4a5e-a86b-1848d89d3ffc",
   "metadata": {},
   "outputs": [
    {
     "name": "stdout",
     "output_type": "stream",
     "text": [
      "Financial Analysis \n",
      "------------------------------\n",
      "Total Months: 86\n",
      "Total: 38382578\n",
      "Average Change: -2315.1176470588234\n",
      "The Greatest Increase in Profits: $1926159 in Feb-2012\n",
      "The Greatest Decrease in Profits: -2196167 in Sep-2013\n"
     ]
    }
   ],
   "source": [
    "budget_data = read_csv('budget_data.csv') #read csv file.\n",
    "a = np.array(budget_data) #saves file data in an array list\n",
    "months, profit_loss = a.shape\n",
    "\n",
    "#calculates total profit\n",
    "add_profit =np.sum(a, axis =0)\n",
    "total_profit = add_profit[1]\n",
    "\n",
    "#calculates the average change in profit/loss over the period\n",
    "p_l = np.delete(a, 0, axis =1) #removes date column because it is a string to allow the np.diff function to calculate the difference along the profit/loss column\n",
    "net_change = np.diff(p_l, axis =0)\n",
    "sum_of_changes = np.sum(net_change) \n",
    "average_change_in_profit_and_loss = sum_of_changes/(months-1) #average of change in p/l over the period = net_changes/(months)\n",
    "\n",
    "#calculates the greatest increase in profits\n",
    "net_change_index = np.argmax(net_change)\n",
    "mm_yyyy = a[net_change_index +1 ][0] #locates the index of the max gain and outputs the date\n",
    "max_profit = np.amax(net_change) #outputs the value of the maximum profit\n",
    "\n",
    "\n",
    "#calculates the greatest decrease in profit\n",
    "net_loss_index =np.argmin(net_change)\n",
    "mm_yyyy_2 = a[net_loss_index +1][0] #locates the index of the greatest loss and outputs the date\n",
    "max_loss = np.amin(net_change)\n",
    "\n",
    "\n",
    "print('Financial Analysis \\n------------------------------')\n",
    "\n",
    "print(f'Total Months: {months}')\n",
    "print(f'Total: {total_profit}')\n",
    "print(F'Average Change: {average_change_in_profit_and_loss}')\n",
    "print(f'The Greatest Increase in Profits: ${max_profit} in {mm_yyyy}')\n",
    "print(f'The Greatest Decrease in Profits: {max_loss} in {mm_yyyy_2}')\n",
    "\n",
    "\n"
   ]
  },
  {
   "cell_type": "code",
   "execution_count": null,
   "id": "1e0391ea-7d74-4062-80e3-931369156af4",
   "metadata": {},
   "outputs": [],
   "source": [
    "\n"
   ]
  },
  {
   "cell_type": "code",
   "execution_count": null,
   "id": "db888813-7867-4af4-823d-5573a5ae7d50",
   "metadata": {},
   "outputs": [],
   "source": [
    "\n"
   ]
  },
  {
   "cell_type": "code",
   "execution_count": null,
   "id": "9b879abe-b64c-4b9f-b7fb-8e2b7ec11858",
   "metadata": {},
   "outputs": [],
   "source": []
  },
  {
   "cell_type": "code",
   "execution_count": null,
   "id": "f6d7b1db-6139-4e4c-b791-53e7e391af6d",
   "metadata": {},
   "outputs": [],
   "source": []
  },
  {
   "cell_type": "code",
   "execution_count": null,
   "id": "67523fea-eb17-4392-8762-d3f435d5e492",
   "metadata": {},
   "outputs": [],
   "source": []
  },
  {
   "cell_type": "code",
   "execution_count": null,
   "id": "03caef02-a25f-48e0-8086-dc97e993183a",
   "metadata": {},
   "outputs": [],
   "source": []
  },
  {
   "cell_type": "code",
   "execution_count": null,
   "id": "be7618e0-70a1-4a24-9d9d-ea6242223003",
   "metadata": {},
   "outputs": [],
   "source": []
  }
 ],
 "metadata": {
  "kernelspec": {
   "display_name": "Python 3",
   "language": "python",
   "name": "python3"
  },
  "language_info": {
   "codemirror_mode": {
    "name": "ipython",
    "version": 3
   },
   "file_extension": ".py",
   "mimetype": "text/x-python",
   "name": "python",
   "nbconvert_exporter": "python",
   "pygments_lexer": "ipython3",
   "version": "3.8.8"
  }
 },
 "nbformat": 4,
 "nbformat_minor": 5
}
